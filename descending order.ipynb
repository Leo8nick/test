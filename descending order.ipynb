{
 "cells": [
  {
   "cell_type": "code",
   "execution_count": 1,
   "metadata": {},
   "outputs": [
    {
     "name": "stdout",
     "output_type": "stream",
     "text": [
      "8486962\n"
     ]
    },
    {
     "data": {
      "text/plain": [
       "(9886642, int)"
      ]
     },
     "execution_count": 1,
     "metadata": {},
     "output_type": "execute_result"
    }
   ],
   "source": [
    "# a = ['4', '2', '1', '4', '5']\n",
    "a = []\n",
    "c = []\n",
    "b = input()\n",
    "for i in b:\n",
    "    a.append(i)\n",
    "    \n",
    "a.sort()\n",
    "a\n",
    "\n",
    "for i in a:\n",
    "#     i = int(i)\n",
    "    c.append(int(i))\n",
    "c\n",
    "razr = 1\n",
    "out = 0\n",
    "for i in c:\n",
    "    out += i * razr\n",
    "    razr *= 10\n",
    "out, type(out)\n",
    "    "
   ]
  },
  {
   "cell_type": "code",
   "execution_count": null,
   "metadata": {},
   "outputs": [],
   "source": []
  }
 ],
 "metadata": {
  "kernelspec": {
   "display_name": "Python 3",
   "language": "python",
   "name": "python3"
  },
  "language_info": {
   "codemirror_mode": {
    "name": "ipython",
    "version": 3
   },
   "file_extension": ".py",
   "mimetype": "text/x-python",
   "name": "python",
   "nbconvert_exporter": "python",
   "pygments_lexer": "ipython3",
   "version": "3.7.3"
  }
 },
 "nbformat": 4,
 "nbformat_minor": 2
}
